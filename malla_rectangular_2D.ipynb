{
  "nbformat": 4,
  "nbformat_minor": 0,
  "metadata": {
    "colab": {
      "provenance": [],
      "authorship_tag": "ABX9TyOB74tXrIwLTQmgn791FoCu",
      "include_colab_link": true
    },
    "kernelspec": {
      "name": "python3",
      "display_name": "Python 3"
    },
    "language_info": {
      "name": "python"
    }
  },
  "cells": [
    {
      "cell_type": "markdown",
      "metadata": {
        "id": "view-in-github",
        "colab_type": "text"
      },
      "source": [
        "<a href=\"https://colab.research.google.com/github/maurimendiluce/FEM-python/blob/main/malla_rectangular_2D.ipynb\" target=\"_parent\"><img src=\"https://colab.research.google.com/assets/colab-badge.svg\" alt=\"Open In Colab\"/></a>"
      ]
    },
    {
      "cell_type": "code",
      "execution_count": 50,
      "metadata": {
        "id": "57y_uNppO3Y_"
      },
      "outputs": [],
      "source": [
        "import numpy as np\n",
        "import matplotlib.pyplot as plt\n",
        "from mpl_toolkits.mplot3d.axes3d import Axes3D"
      ]
    },
    {
      "cell_type": "code",
      "source": [
        "def gen_mesh_rectangle(N,M,xmin,xmax,ymin,ymax):\n",
        "\n",
        "  delta_x=(xmax-xmin)/N\n",
        "  delta_y=(ymax-ymin)/M\n",
        "\n",
        "  coord_x=[]\n",
        "  coord_y=[]\n",
        "  for i in range(N+1):\n",
        "    coord_x.append(xmin+i*delta_x)\n",
        "    coord_y.append(ymin+i*delta_y)\n",
        "\n",
        "  nodos=[]\n",
        "  for i in range(N+1):\n",
        "    for j in range(N+1):\n",
        "      nodos.append([coord_x[j],coord_y[i]])\n",
        "\n",
        "  elem=[]\n",
        "  for i in range(M):\n",
        "    for j in range(1,N+1):\n",
        "      elem.append([i*(N+1)+j,(i+1)*(N+1)+j+1,(i+1)*(N+1)+j])\n",
        "      elem.append([(i+1)*(N+1)+j+1,i*(N+1)+j,i*(N+1)+j+1])\n",
        "\n",
        "  dirichlet=[]\n",
        "  for j in range(1,N+2):\n",
        "    dirichlet.append(j)\n",
        "  for i in range(1,M):\n",
        "    dirichlet.append(i*(N+1)+1)\n",
        "    dirichlet.append(i*(N+1)+N+1)\n",
        "  for j in range(1,N+2):\n",
        "    dirichlet.append((N+1)*M+j)\n",
        "\n",
        "  #Grafico\n",
        "  for t in elem:\n",
        "    t0=t[0]\n",
        "    t1=t[1]\n",
        "    t2=t[2]\n",
        "    v0=nodos[t0-1]\n",
        "    v1=nodos[t1-1]\n",
        "    v2=nodos[t2-1]\n",
        "    x01=[v0[0],v1[0]]\n",
        "    y01=[v0[1],v1[1]]\n",
        "    x02=[v0[0],v2[0]]\n",
        "    y02=[v0[1],v2[1]]\n",
        "    x12=[v1[0],v2[0]]\n",
        "    y12=[v1[1],v2[1]]\n",
        "    plt.plot(x01,y01,'b')\n",
        "    plt.plot(x02,y02,'b')\n",
        "    plt.plot(x12,y12,'b')\n",
        "  \n",
        "  return nodos,elem,dirichlet"
      ],
      "metadata": {
        "id": "YcSLNHpVQ_gJ"
      },
      "execution_count": 37,
      "outputs": []
    },
    {
      "cell_type": "code",
      "source": [
        "N=10\n",
        "M=10\n",
        "xmin=-1\n",
        "xmax=1\n",
        "ymin=-1\n",
        "ymax=1\n",
        "\n",
        "(nodos,elem,dirichlet)=gen_mesh_rectangle(N,M,xmin,xmax,ymin,ymax)\n"
      ],
      "metadata": {
        "colab": {
          "base_uri": "https://localhost:8080/",
          "height": 265
        },
        "id": "xLEQgYxcgQZI",
        "outputId": "747e5279-ec5f-4265-9011-a4a31ff023bc"
      },
      "execution_count": 66,
      "outputs": [
        {
          "output_type": "display_data",
          "data": {
            "text/plain": [
              "<Figure size 432x288 with 1 Axes>"
            ],
            "image/png": "[encoded data removed]"
          },
          "metadata": {
            "needs_background": "light"
          }
        }
      ]
    },
    {
      "cell_type": "code",
      "source": [
        "def f(x,y):\n",
        "  return(x**2+y**2)"
      ],
      "metadata": {
        "id": "bYeOjqDei7p5"
      },
      "execution_count": 48,
      "outputs": []
    },
    {
      "cell_type": "code",
      "source": [
        "x=[]\n",
        "y=[]\n",
        "z=[]\n",
        "for nod in nodos:\n",
        "  x.append(nod[0])\n",
        "  y.append(nod[1])\n",
        "  z.append(f(nod[0],nod[1]))\n",
        "\n",
        "x=np.array([x])\n",
        "y=np.array([y])\n",
        "X,Y = np.meshgrid(x,y)\n",
        "Z = np.sqrt(X**2+Y**2)\n",
        "\n",
        "fig = plt.figure()\n",
        " \n",
        "axes3d = Axes3D(fig)\n",
        "\n",
        "axes3d.plot_surface(X,Y,Z)\n",
        "\n",
        "#plt.show() "
      ],
      "metadata": {
        "id": "fCmKNT8tjbnc"
      },
      "execution_count": null,
      "outputs": []
    }
  ]
}