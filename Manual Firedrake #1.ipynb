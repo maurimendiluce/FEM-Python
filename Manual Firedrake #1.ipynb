{
 "cells": [
  {
   "cell_type": "markdown",
   "id": "a9e80050",
   "metadata": {},
   "source": [
    "# Definición de problemas variacionales"
   ]
  },
  {
   "cell_type": "markdown",
   "id": "bc9c2f99",
   "metadata": {},
   "source": [
    "Firedrake usa un lenguaje de alto nivel, UFL (https://arxiv.org/abs/1211.4047), para describir problemas variacionales. Para hacer esto, necesitamos una serie de piezas. Necesitamos una representación del dominio en el que estamos resolviendo el PDE : Firedrake usa a $\\texttt{Mesh()}$ para esto (https://www.firedrakeproject.org/firedrake.html#firedrake.mesh.Mesh). Encima de esta malla, construimos $\\texttt{FunctionSpaces}$ (https://www.firedrakeproject.org/firedrake.html#firedrake.functionspaceimpl.FunctionSpace) que definen el espacio en el que viven las soluciones de nuestra ecuación. Finalmente, definimos $\\texttt{Functions}$ (https://www.firedrakeproject.org/firedrake.html#firedrake.function.Function) en esos espacios de funciones para contener realmente las soluciones."
   ]
  },
  {
   "cell_type": "markdown",
   "id": "bd567348",
   "metadata": {},
   "source": [
    "## Construyendo Mallas"
   ]
  },
  {
   "cell_type": "markdown",
   "id": "f0adb719",
   "metadata": {},
   "source": [
    "Firedrake puede leer mallas en formatos Gmsh , triángulo , CGNS y Exodus . Para construir una malla se usa el constructor $\\texttt{Mesh()}$, pasando el nombre del archivo como argumento. El tipo de malla está determinado por la extensión del archivo, por ejemplo, si el nombre de archivo proporcionado es $\\texttt{coastline.msh}$, se supone que la malla está en formato Gmsh, en cuyo caso puede construir un objeto de malla así:"
   ]
  },
  {
   "cell_type": "code",
   "execution_count": null,
   "id": "f81e1c82",
   "metadata": {},
   "outputs": [],
   "source": [
    "coastline = Mesh(\"coastline.msh\")"
   ]
  },
  {
   "cell_type": "markdown",
   "id": "b936b34a",
   "metadata": {},
   "source": [
    "Este funciona tanto en serie como en paralelo, Firedrake se encarga de descomponer la malla entre procesadores de forma transparente."
   ]
  },
  {
   "cell_type": "markdown",
   "id": "5555f48d",
   "metadata": {},
   "source": [
    "### Reordenando mallas para un mejor rendimiento "
   ]
  },
  {
   "cell_type": "markdown",
   "id": "5392af4a",
   "metadata": {},
   "source": [
    "La mayoría de los generadores de mallas producen mallas mal numeradas (con localidad de datos incorrecta) que pueden reducir el rendimiento del ensamblaje y la resolución de problemas de elementos finitos. Por defecto, entonces, Firedrake reordena las mallas de entrada para mejorar la localidad de los datos al realizar el reordenamiento inverso de Cuthill-McKee en la matriz de adyacencia de la malla de entrada. Si sabe que su malla tiene una buena numeración (quizás su generador de malla usa curvas de relleno de espacio para numerar entidades), entonces puede desactivar este reordenamiento pasando $\\texttt{reorder=False}$ al constructor $\\texttt{Mesh()}$ apropiado. Puede controlar el comportamiento predeterminado de Firedrake al reordenar mallas con el parámetro $\\texttt{\"reorder_meshes\"}$. Por ejemplo, para desactivar el reordenamiento de malla globalmente:"
   ]
  },
  {
   "cell_type": "code",
   "execution_count": null,
   "id": "56c91fd5",
   "metadata": {},
   "outputs": [],
   "source": [
    "from firedrake import *\n",
    "parameters[\"reorder_meshes\"] = False"
   ]
  },
  {
   "cell_type": "markdown",
   "id": "071641e4",
   "metadata": {},
   "source": [
    "Firedrake numera los grados de libertad en un espacio funcional visitando cada celda en orden y realizando una numeración en profundidad de todos los grados de libertad en esa celda. Por lo tanto, si su malla tiene una buena numeración, los grados de libertad también la tendrán."
   ]
  },
  {
   "cell_type": "markdown",
   "id": "ff487aa9",
   "metadata": {},
   "source": [
    "### Funciones de malla de utilidad"
   ]
  },
  {
   "cell_type": "markdown",
   "id": "dc97bea4",
   "metadata": {},
   "source": [
    "Además de ofrecer la capacidad de leer la información de la malla de un archivo, Firedrake también proporciona una serie de tipos de malla integrados para una serie de formas estándar. Los intervalos unidimensionales se pueden construir con $\\texttt{IntervalMesh()}$ (https://www.firedrakeproject.org/firedrake.html#firedrake.utility_meshes.IntervalMesh); rectángulos bidimensionales con $\\texttt{RectangleMesh()}$ (https://www.firedrakeproject.org/firedrake.html#firedrake.utility_meshes.RectangleMesh); y cajas tridimensionales con $\\texttt{BoxMesh()}$ (https://www.firedrakeproject.org/firedrake.html#firedrake.utility_meshes.BoxMesh). También hay constructores más específicos (por ejemplo, para construir mallas cuadradas unitarias). Ver https://www.firedrakeproject.org/firedrake.html#module-firedrake.utility_meshes para detalles completos."
   ]
  },
  {
   "cell_type": "markdown",
   "id": "037da9e9",
   "metadata": {},
   "source": [
    "Además de las mallas simples descritas anteriormente, Firedrake también tiene soporte para resolver problemas en variedades sumergidas orientables . Es decir, mallas en las que las entidades se sumergen en un espacio dimensional superior. Por ejemplo, la superficie de una esfera en 3D.\n",
    "\n",
    "Si su malla es una variedad tan inmersa, debe decirle a Firedrake que la dimensión geométrica del campo de coordenadas (que define dónde están los puntos en la malla) no es la misma que la dimensión topológica de las entidades de la malla. Esto se hace pasando un segundo argumento opcional al constructor de mallas que especifica la dimensión geométrica. Por ejemplo, para la superficie de una esfera incrustada en 3D usamos:"
   ]
  },
  {
   "cell_type": "code",
   "execution_count": null,
   "id": "44eda3c2",
   "metadata": {},
   "outputs": [],
   "source": [
    "sphere_mesh = Mesh('sphere_mesh.node', dim=3)"
   ]
  },
  {
   "cell_type": "markdown",
   "id": "986918c7",
   "metadata": {},
   "source": [
    "Firedrake proporciona mallas de utilidad para las superficies de esferas inmersas en 3D que se aproximan mediante una malla icosaédrica . Puede construir una malla de la esfera unitaria con $\\texttt{UnitIcosahedralSphereMesh()}$ (https://www.firedrakeproject.org/firedrake.html#firedrake.utility_meshes.UnitIcosahedralSphereMesh), o una malla de una esfera con radio especificado usando $\\texttt{IcosahedralSphereMesh()}$ (https://www.firedrakeproject.org/firedrake.html#firedrake.utility_meshes.IcosahedralSphereMesh). Las mallas se construyen refinando recursivamente un icosaedro regular , puede especificar el nivel de refinamiento pasando un valor distinto de cero $\\texttt{refinement_level}$ al constructor."
   ]
  },
  {
   "cell_type": "code",
   "execution_count": null,
   "id": "9e8b20c3",
   "metadata": {},
   "outputs": [],
   "source": []
  }
 ],
 "metadata": {
  "kernelspec": {
   "display_name": "Python 3 (ipykernel)",
   "language": "python",
   "name": "python3"
  },
  "language_info": {
   "codemirror_mode": {
    "name": "ipython",
    "version": 3
   },
   "file_extension": ".py",
   "mimetype": "text/x-python",
   "name": "python",
   "nbconvert_exporter": "python",
   "pygments_lexer": "ipython3",
   "version": "3.10.6"
  }
 },
 "nbformat": 4,
 "nbformat_minor": 5
}
