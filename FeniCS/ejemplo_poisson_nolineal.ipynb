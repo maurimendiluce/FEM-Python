{
 "cells": [
  {
   "cell_type": "markdown",
   "id": "e8920ad8-58d2-4e3e-a148-520cbe4d2966",
   "metadata": {},
   "source": [
    "# Ecuación de Poisson no lineal"
   ]
  },
  {
   "cell_type": "markdown",
   "id": "ec7fae82-4918-4196-939f-7ad46ac18338",
   "metadata": {},
   "source": [
    "Para resolver el problema, necesitamos elegir el lado derecho $f$, el coeficiente $q(u)$ y el valor límite $u_D$. Anteriormente, hemos trabajado con soluciones fabricadas que se pueden reproducir sin errores de aproximación. Esto es más difícil en problemas no lineales y el álgebra es más tedioso. Sin embargo, podemos utilizar SymPy para la computación simbólica e integrar dichos cálculos en el solucionador FEniCS. Esto nos permite experimentar fácilmente con diferentes soluciones fabricadas. El próximo código con SymPy requiere cierta familiaridad básica con este paquete. En particular, usaremos las funciones de SymPy diff para la diferenciación simbólica y ccode para la generación de código C/C++."
   ]
  },
  {
   "cell_type": "code",
   "execution_count": 1,
   "id": "1d4afa69-5583-4c12-a046-9dad4047e37f",
   "metadata": {
    "tags": []
   },
   "outputs": [
    {
     "data": {
      "text/plain": [
       "'\\nFEniCS tutorial demo program: Nonlinear Poisson equation.\\n\\n  -div(q(u)*grad(u)) = f   in the unit square.\\n                   u = u_D on the boundary.\\n'"
      ]
     },
     "execution_count": 1,
     "metadata": {},
     "output_type": "execute_result"
    }
   ],
   "source": [
    "\"\"\"\n",
    "FEniCS tutorial demo program: Nonlinear Poisson equation.\n",
    "\n",
    "  -div(q(u)*grad(u)) = f   in the unit square.\n",
    "                   u = u_D on the boundary.\n",
    "\"\"\""
   ]
  },
  {
   "cell_type": "code",
   "execution_count": 2,
   "id": "21171287-92c7-4ab9-bb14-458aa833f83f",
   "metadata": {
    "tags": []
   },
   "outputs": [],
   "source": [
    "from __future__ import print_function"
   ]
  },
  {
   "cell_type": "code",
   "execution_count": 3,
   "id": "9e540d46-a508-4cad-b63e-11801b2a6196",
   "metadata": {
    "tags": []
   },
   "outputs": [],
   "source": [
    "# Warning: from fenics import * will import both `sym` and\n",
    "# `q` from FEniCS. We therefore import FEniCS first and then\n",
    "# overwrite these objects.\n",
    "from fenics import *"
   ]
  },
  {
   "cell_type": "code",
   "execution_count": 4,
   "id": "5ae987f7-af5c-4398-b10e-b722d57a5f02",
   "metadata": {
    "tags": []
   },
   "outputs": [],
   "source": [
    "def q(u):\n",
    "    \"Return nonlinear coefficient\"\n",
    "    return 1 + u**2"
   ]
  },
  {
   "cell_type": "code",
   "execution_count": 5,
   "id": "c8018380-71d8-4323-8cb8-afc97fa3b480",
   "metadata": {
    "tags": []
   },
   "outputs": [
    {
     "name": "stdout",
     "output_type": "stream",
     "text": [
      "u = x[0] + 2*x[1] + 1\n",
      "f = -10*x[0] - 20*x[1] - 10\n"
     ]
    }
   ],
   "source": [
    "# Use SymPy to compute f from the manufactured solution u\n",
    "import sympy as sym\n",
    "x, y = sym.symbols('x[0], x[1]')\n",
    "u = 1 + x + 2*y\n",
    "f = - sym.diff(q(u)*sym.diff(u, x), x) - sym.diff(q(u)*sym.diff(u, y), y)\n",
    "f = sym.simplify(f)\n",
    "u_code = sym.printing.ccode(u)\n",
    "f_code = sym.printing.ccode(f)\n",
    "print('u =', u_code)\n",
    "print('f =', f_code)\n"
   ]
  },
  {
   "cell_type": "code",
   "execution_count": 6,
   "id": "9900c639-2176-470f-afa3-30a6487d4882",
   "metadata": {
    "tags": []
   },
   "outputs": [],
   "source": [
    "# Create mesh and define function space\n",
    "mesh = UnitSquareMesh(8, 8)\n",
    "V = FunctionSpace(mesh, 'P', 1)"
   ]
  },
  {
   "cell_type": "code",
   "execution_count": 8,
   "id": "2b33ca4f-f46a-4e76-817b-4bef2644c553",
   "metadata": {
    "tags": []
   },
   "outputs": [],
   "source": [
    "# Define boundary condition\n",
    "u_D = Expression(u_code, degree=2)\n",
    "\n",
    "def boundary(x, on_boundary):\n",
    "    return on_boundary\n",
    "\n",
    "bc = DirichletBC(V, u_D, boundary)"
   ]
  },
  {
   "cell_type": "code",
   "execution_count": 9,
   "id": "e3924a82-1626-44db-878a-f042f78f9fac",
   "metadata": {
    "tags": []
   },
   "outputs": [],
   "source": [
    "# Define variational problem\n",
    "u = Function(V)  # Note: not TrialFunction!\n",
    "v = TestFunction(V)\n",
    "f = Expression(f_code, degree=2)\n",
    "F = q(u)*dot(grad(u), grad(v))*dx - f*v*dx"
   ]
  },
  {
   "cell_type": "code",
   "execution_count": 10,
   "id": "cd2bd7d3-ff1e-4f8b-9d56-e23d56f29eb9",
   "metadata": {
    "tags": []
   },
   "outputs": [
    {
     "name": "stdout",
     "output_type": "stream",
     "text": [
      "Calling FFC just-in-time (JIT) compiler, this may take some time.\n",
      "No Jacobian form specified for nonlinear variational problem.\n",
      "Differentiating residual form F to obtain Jacobian J = F'.\n",
      "Calling FFC just-in-time (JIT) compiler, this may take some time.\n",
      "Solving nonlinear variational problem.\n",
      "  Newton iteration 0: r (abs) = 4.533e+01 (tol = 1.000e-10) r (rel) = 1.000e+00 (tol = 1.000e-09)\n",
      "  Newton iteration 1: r (abs) = 2.614e+01 (tol = 1.000e-10) r (rel) = 5.767e-01 (tol = 1.000e-09)\n",
      "  Newton iteration 2: r (abs) = 7.883e+01 (tol = 1.000e-10) r (rel) = 1.739e+00 (tol = 1.000e-09)\n",
      "  Newton iteration 3: r (abs) = 2.293e+01 (tol = 1.000e-10) r (rel) = 5.058e-01 (tol = 1.000e-09)\n",
      "  Newton iteration 4: r (abs) = 4.990e+00 (tol = 1.000e-10) r (rel) = 1.101e-01 (tol = 1.000e-09)\n",
      "  Newton iteration 5: r (abs) = 3.970e-01 (tol = 1.000e-10) r (rel) = 8.758e-03 (tol = 1.000e-09)\n",
      "  Newton iteration 6: r (abs) = 2.964e-03 (tol = 1.000e-10) r (rel) = 6.539e-05 (tol = 1.000e-09)\n",
      "  Newton iteration 7: r (abs) = 1.272e-07 (tol = 1.000e-10) r (rel) = 2.806e-09 (tol = 1.000e-09)\n",
      "  Newton iteration 8: r (abs) = 1.613e-15 (tol = 1.000e-10) r (rel) = 3.558e-17 (tol = 1.000e-09)\n",
      "  Newton solver finished in 8 iterations and 8 linear solver iterations.\n"
     ]
    },
    {
     "data": {
      "text/plain": [
       "<matplotlib.tri.tricontour.TriContourSet at 0x7fb7a8bafe80>"
      ]
     },
     "execution_count": 10,
     "metadata": {},
     "output_type": "execute_result"
    },
    {
     "data": {
      "image/png": "[encoded data removed]",
      "text/plain": [
       "<Figure size 432x288 with 1 Axes>"
      ]
     },
     "metadata": {
      "needs_background": "light"
     },
     "output_type": "display_data"
    }
   ],
   "source": [
    "# Compute solution\n",
    "solve(F == 0, u, bc)\n",
    "\n",
    "# Plot solution\n",
    "plot(u)"
   ]
  },
  {
   "cell_type": "code",
   "execution_count": 11,
   "id": "4e17a5de-b84c-465a-b9a1-dcb428a994e9",
   "metadata": {
    "tags": []
   },
   "outputs": [
    {
     "name": "stdout",
     "output_type": "stream",
     "text": [
      "error_max =  0.0\n"
     ]
    }
   ],
   "source": [
    "# Compute maximum error at vertices. This computation illustrates\n",
    "# an alternative to using compute_vertex_values as in poisson.py.\n",
    "u_e = interpolate(u_D, V)\n",
    "import numpy as np\n",
    "error_max = np.abs(u_e.vector().get_local() - u.vector().get_local()).max()\n",
    "print('error_max = ', error_max)"
   ]
  },
  {
   "cell_type": "markdown",
   "id": "ec6444d4-4438-4b30-81ea-8fcfd10527ab",
   "metadata": {},
   "source": [
    "La principal diferencia con un problema lineal es que la función desconocida u en la forma variacional en el caso no lineal debe definirse como una función, no como una función de prueba. En cierto sentido, esto es una simplificación del caso lineal en el que debemos definir u primero como una función de prueba y luego como una función.\n",
    "\n",
    "La función de resolución toma las ecuaciones no lineales, deriva simbólicamente la matriz jacobiana y ejecuta un método de Newton para calcular la solución.\n",
    "\n",
    "Cuando ejecutamos el código, FEniCS informa sobre el progreso de las iteraciones de Newton. Con $2 \\dot (8 \\times 8)$ celdas, alcanzamos la convergencia en ocho iteraciones con una tolerancia de 10−9, y el error en la solución numérica es de aproximadamente $10^{-16}$. Estos resultados traen evidencia para una correcta implementación. Pensando en términos de diferencias finitas en una malla uniforme, los elementos $P_1$ imitan las diferencias estándar de segundo orden, que calculan exactamente la derivada de una función lineal o cuadrática. Aquí, $\\nabla u$ es un vector constante, pero luego se multiplica por $(1+u^2)$, que es un polinomio de segundo orden en $x$ e $y$, que el \"operador de diferencia\" de divergencia debería calcular exactamente. Por lo tanto, incluso con elementos $P_1$, podemos esperar que la $u$ fabricada sea reproducida por el método numérico. Con una no linealidad como $1+u^4$, este no será el caso y, en su lugar, tendríamos que verificar las tasas de convergencia.\n",
    "\n",
    "El ejemplo actual muestra lo fácil que es resolver un problema no lineal en FEniCS. Sin embargo, los expertos en la solución numérica de PDE no lineales saben muy bien que los procedimientos automatizados pueden fallar para problemas no lineales, y que a menudo es necesario tener un control manual del proceso de solución mucho mejor que el que tenemos en el caso actual. Volvemos a este problema en [23] y mostramos cómo podemos implementar algoritmos de solución personalizados para ecuaciones no lineales y también cómo podemos dirigir los parámetros en el método de Newton automatizado utilizado anteriormente."
   ]
  },
  {
   "cell_type": "code",
   "execution_count": null,
   "id": "564f16de-f710-4e14-b201-ab24932f8c93",
   "metadata": {},
   "outputs": [],
   "source": []
  }
 ],
 "metadata": {
  "kernelspec": {
   "display_name": "Python 3 (ipykernel)",
   "language": "python",
   "name": "python3"
  },
  "language_info": {
   "codemirror_mode": {
    "name": "ipython",
    "version": 3
   },
   "file_extension": ".py",
   "mimetype": "text/x-python",
   "name": "python",
   "nbconvert_exporter": "python",
   "pygments_lexer": "ipython3",
   "version": "3.10.6"
  }
 },
 "nbformat": 4,
 "nbformat_minor": 5
}
