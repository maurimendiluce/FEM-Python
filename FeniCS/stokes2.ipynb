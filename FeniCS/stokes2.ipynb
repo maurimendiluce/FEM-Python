{
 "cells": [
  {
   "cell_type": "code",
   "execution_count": 1,
   "id": "94bbc61e-08d0-412c-a3bc-3906d4537fbe",
   "metadata": {
    "tags": []
   },
   "outputs": [],
   "source": [
    "from dolfin import  *"
   ]
  },
  {
   "cell_type": "code",
   "execution_count": 10,
   "id": "54c988ca-21a4-4016-b8c9-757cf009ed75",
   "metadata": {
    "tags": []
   },
   "outputs": [],
   "source": [
    "# Test for PETSc or Tpetra\n",
    "if not has_linear_algebra_backend(\"PETSc\") and not has_linear_algebra_backend(\"Tpetra\"):\n",
    "    info(\"DOLFIN has not been configured with Trilinos or PETSc. Exiting.\")\n",
    "    exit()\n",
    "\n",
    "if not has_krylov_solver_preconditioner(\"amg\"):\n",
    "    info(\"Sorry, this demo is only available when DOLFIN is compiled with AMG \"\n",
    "         \"preconditioner, Hypre or ML.\")\n",
    "    exit()\n",
    "\n",
    "if has_krylov_solver_method(\"minres\"):\n",
    "    krylov_method = \"minres\"\n",
    "elif has_krylov_solver_method(\"tfqmr\"):\n",
    "    krylov_method = \"tfqmr\"\n",
    "else:\n",
    "    info(\"Default linear algebra backend was not compiled with MINRES or TFQMR \"\n",
    "         \"Krylov subspace method. Terminating.\")\n",
    "    exit()"
   ]
  },
  {
   "cell_type": "code",
   "execution_count": 2,
   "id": "012b36f1-4810-4728-8850-d4fa88bce3c4",
   "metadata": {
    "tags": []
   },
   "outputs": [
    {
     "name": "stdout",
     "output_type": "stream",
     "text": [
      "Calling FFC just-in-time (JIT) compiler, this may take some time.\n",
      "Calling FFC just-in-time (JIT) compiler, this may take some time.\n",
      "Calling FFC just-in-time (JIT) compiler, this may take some time.\n",
      "Calling FFC just-in-time (JIT) compiler, this may take some time.\n"
     ]
    }
   ],
   "source": [
    "# Load mesh\n",
    "mesh = UnitCubeMesh.create(16, 16, 16, CellType.Type.hexahedron)\n",
    "\n",
    "# Build function space\n",
    "P2 = VectorElement(\"Lagrange\", mesh.ufl_cell(), 2)\n",
    "P1 = FiniteElement(\"Lagrange\", mesh.ufl_cell(), 1)\n",
    "TH = P2 * P1\n",
    "W = FunctionSpace(mesh, TH)"
   ]
  },
  {
   "cell_type": "code",
   "execution_count": 4,
   "id": "df248d85-82ba-41a4-a32b-e73a7220f6a5",
   "metadata": {
    "tags": []
   },
   "outputs": [],
   "source": [
    "# Boundaries\n",
    "def right(x, on_boundary): return x[0] > (1.0 - DOLFIN_EPS)\n",
    "def left(x, on_boundary): return x[0] < DOLFIN_EPS\n",
    "def top_bottom(x, on_boundary):\n",
    "    return x[1] > 1.0 - DOLFIN_EPS or x[1] < DOLFIN_EPS\n",
    "\n",
    "# No-slip boundary condition for velocity\n",
    "noslip = Constant((0.0, 0.0, 0.0))\n",
    "bc0 = DirichletBC(W.sub(0), noslip, top_bottom)\n",
    "\n",
    "# Inflow boundary condition for velocity\n",
    "inflow = Expression((\"-sin(x[1]*pi)\", \"0.0\", \"0.0\"), degree=2)\n",
    "bc1 = DirichletBC(W.sub(0), inflow, right)\n",
    "\n",
    "# Collect boundary conditions\n",
    "bcs = [bc0, bc1]"
   ]
  },
  {
   "cell_type": "code",
   "execution_count": 5,
   "id": "ee3624c9-ccbe-455d-b355-b8a4f1ae9ed6",
   "metadata": {
    "tags": []
   },
   "outputs": [],
   "source": [
    "# Define variational problem\n",
    "(u, p) = TrialFunctions(W)\n",
    "(v, q) = TestFunctions(W)\n",
    "f = Constant((0.0, 0.0, 0.0))\n",
    "a = inner(grad(u), grad(v))*dx + div(v)*p*dx + q*div(u)*dx\n",
    "L = inner(f, v)*dx"
   ]
  },
  {
   "cell_type": "code",
   "execution_count": 7,
   "id": "114bef2e-1aab-4c07-8700-18d27d7d3c15",
   "metadata": {
    "tags": []
   },
   "outputs": [],
   "source": [
    "b = inner(grad(u), grad(v))*dx + p*q*dx"
   ]
  },
  {
   "cell_type": "code",
   "execution_count": 6,
   "id": "b928bda4-6de8-47c4-927e-9ac75d099371",
   "metadata": {
    "tags": []
   },
   "outputs": [
    {
     "name": "stdout",
     "output_type": "stream",
     "text": [
      "Calling FFC just-in-time (JIT) compiler, this may take some time.\n",
      "Calling FFC just-in-time (JIT) compiler, this may take some time.\n",
      "Calling FFC just-in-time (JIT) compiler, this may take some time.\n",
      "Calling FFC just-in-time (JIT) compiler, this may take some time.\n",
      "Calling FFC just-in-time (JIT) compiler, this may take some time.\n",
      "Calling FFC just-in-time (JIT) compiler, this may take some time.\n",
      "Calling FFC just-in-time (JIT) compiler, this may take some time.\n",
      "Calling FFC just-in-time (JIT) compiler, this may take some time.\n",
      "Calling FFC just-in-time (JIT) compiler, this may take some time.\n",
      "Calling FFC just-in-time (JIT) compiler, this may take some time.\n"
     ]
    }
   ],
   "source": [
    "A, bb = assemble_system(a, L, bcs)"
   ]
  },
  {
   "cell_type": "code",
   "execution_count": 8,
   "id": "43feb776-4cf2-49ea-8e4d-414e851b41d3",
   "metadata": {
    "tags": []
   },
   "outputs": [
    {
     "name": "stdout",
     "output_type": "stream",
     "text": [
      "Calling FFC just-in-time (JIT) compiler, this may take some time.\n"
     ]
    }
   ],
   "source": [
    "P, btmp = assemble_system(b, L, bcs)"
   ]
  },
  {
   "cell_type": "code",
   "execution_count": 11,
   "id": "4aa4f2b7-c3dd-43e5-85f2-9466e4419c7b",
   "metadata": {
    "tags": []
   },
   "outputs": [],
   "source": [
    "# Create Krylov solver and AMG preconditioner\n",
    "solver = KrylovSolver(krylov_method, \"amg\")\n",
    "\n",
    "# Associate operator (A) and preconditioner matrix (P)\n",
    "solver.set_operators(A, P)"
   ]
  },
  {
   "cell_type": "code",
   "execution_count": 12,
   "id": "729f3d1a-ca08-4551-8a5d-29f002e2ef43",
   "metadata": {
    "tags": []
   },
   "outputs": [
    {
     "data": {
      "text/plain": [
       "72"
      ]
     },
     "execution_count": 12,
     "metadata": {},
     "output_type": "execute_result"
    }
   ],
   "source": [
    "# Solve\n",
    "U = Function(W)\n",
    "solver.solve(U.vector(), bb)"
   ]
  },
  {
   "cell_type": "code",
   "execution_count": 13,
   "id": "942c228d-5a92-463f-800c-b167312e69e8",
   "metadata": {
    "tags": []
   },
   "outputs": [],
   "source": [
    "u, p = U.split()"
   ]
  },
  {
   "cell_type": "code",
   "execution_count": null,
   "id": "e72cd11a-fbad-4bf6-8299-eb6c195f9ba4",
   "metadata": {},
   "outputs": [],
   "source": []
  }
 ],
 "metadata": {
  "kernelspec": {
   "display_name": "Python 3 (ipykernel)",
   "language": "python",
   "name": "python3"
  },
  "language_info": {
   "codemirror_mode": {
    "name": "ipython",
    "version": 3
   },
   "file_extension": ".py",
   "mimetype": "text/x-python",
   "name": "python",
   "nbconvert_exporter": "python",
   "pygments_lexer": "ipython3",
   "version": "3.10.6"
  }
 },
 "nbformat": 4,
 "nbformat_minor": 5
}
